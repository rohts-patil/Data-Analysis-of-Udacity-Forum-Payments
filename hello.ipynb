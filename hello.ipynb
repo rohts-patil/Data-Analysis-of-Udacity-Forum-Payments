{
 "cells": [
  {
   "cell_type": "code",
   "execution_count": 1,
   "metadata": {},
   "outputs": [
    {
     "name": "stderr",
     "output_type": "stream",
     "text": [
      "Using TensorFlow backend.\n"
     ]
    },
    {
     "name": "stdout",
     "output_type": "stream",
     "text": [
      "Series([], dtype: float64)\n",
      "1.4.0\n",
      "2.1.2\n"
     ]
    }
   ],
   "source": [
    "import pandas as pd\n",
    "import csv\n",
    "import tensorflow as tf\n",
    "import numpy as np\n",
    "import re\n",
    "import keras\n",
    "import plotly\n",
    "plotly.tools.set_credentials_file(username='rohts-patil', api_key='VuM4EP3INiuaX3RKEq46')\n",
    "from plotly.graph_objs import *\n",
    "s = pd.Series()\n",
    "print(s)\n",
    "print(tf.__version__)\n",
    "print(keras.__version__)\n"
   ]
  },
  {
   "cell_type": "code",
   "execution_count": 2,
   "metadata": {},
   "outputs": [
    {
     "name": "stdout",
     "output_type": "stream",
     "text": [
      "[0, 384, 1020, 1476, 1716, 1464, 1548, 2136, 1644, 1776, 576, 1200]\n",
      "14940\n"
     ]
    },
    {
     "data": {
      "text/html": [
       "<iframe id=\"igraph\" scrolling=\"no\" style=\"border:none;\" seamless=\"seamless\" src=\"https://plot.ly/~rohts-patil/21.embed\" height=\"525px\" width=\"100%\"></iframe>"
      ],
      "text/plain": [
       "<plotly.tools.PlotlyDisplay object>"
      ]
     },
     "execution_count": 2,
     "metadata": {},
     "output_type": "execute_result"
    }
   ],
   "source": [
    "\n",
    "date=[]\n",
    "month=[]\n",
    "year=[]\n",
    "wholedate=[]\n",
    "i=0\n",
    "months=[0,0,0,0,0,0,0,0,0,0,0,0]\n",
    "month_name=['Jan','Feb','Mar','Apr','May','June','July','Aug','Sept','Oct','Nov','Dec']\n",
    "with open(\"a.csv\",encoding=\"utf8\") as csvfile:\n",
    "    csvFileReader =csv.reader(csvfile)\n",
    "    next(csvFileReader)\n",
    "    for row in csvFileReader:\n",
    "        #date.append(int(row[8].split('-')[0]))\n",
    "        #print((row[8]))\n",
    "        a=(re.split('[-  ]',row[8]))[1]\n",
    "        #month.append((re.split('[-  ]',row[8]))[1])\n",
    "        month.append(int(a))\n",
    "        #print(month[i])\n",
    "        #months[month[i]]= months[month[i]]+1\n",
    "        months[int(a)-1]=months[int(a)-1]+12\n",
    "        i=i+1\n",
    "\n",
    "\n",
    "print(months)\n",
    "print(sum(months))\n",
    "\n",
    "data = [Bar(x=month_name,\n",
    "            y=months)]\n",
    "\n",
    "plotly.plotly.iplot(data)\n",
    "\n"
   ]
  },
  {
   "cell_type": "code",
   "execution_count": 3,
   "metadata": {},
   "outputs": [
    {
     "data": {
      "text/html": [
       "<iframe id=\"igraph\" scrolling=\"no\" style=\"border:none;\" seamless=\"seamless\" src=\"https://plot.ly/~rohts-patil/23.embed\" height=\"525px\" width=\"100%\"></iframe>"
      ],
      "text/plain": [
       "<plotly.tools.PlotlyDisplay object>"
      ]
     },
     "execution_count": 3,
     "metadata": {},
     "output_type": "execute_result"
    }
   ],
   "source": [
    "trace = Pie(labels=month_name, values=months)\n",
    "plotly.plotly.iplot([trace])"
   ]
  },
  {
   "cell_type": "code",
   "execution_count": 13,
   "metadata": {},
   "outputs": [
    {
     "name": "stdout",
     "output_type": "stream",
     "text": [
      "9\n",
      "['SDCND Term 1: Computer Vision', 'SDCND Term 1: Deep Learning', 'SDCND Term 1: Intro and Finding Lane Lines', 'SDCND Term 2: Controllers', 'SDCND Term 2: Localization', 'SDCND Term 2: Sensor Fusion', 'SDCND Term 3: Advanced Deep Learning', 'SDCND Term 3: Path Planning', 'SDCND Term 3: System Integration']\n",
      "[164, 541, 125, 85, 26, 171, 42, 13, 78]\n",
      "1245\n"
     ]
    },
    {
     "data": {
      "text/html": [
       "<iframe id=\"igraph\" scrolling=\"no\" style=\"border:none;\" seamless=\"seamless\" src=\"https://plot.ly/~rohts-patil/25.embed\" height=\"525px\" width=\"100%\"></iframe>"
      ],
      "text/plain": [
       "<plotly.tools.PlotlyDisplay object>"
      ]
     },
     "execution_count": 13,
     "metadata": {},
     "output_type": "execute_result"
    }
   ],
   "source": [
    "categoires=set()\n",
    "with open(\"a.csv\",encoding=\"utf8\") as csvfile:\n",
    "    csvFileReader =csv.reader(csvfile)\n",
    "    next(csvFileReader)\n",
    "    for row in csvFileReader:\n",
    "        categoires.add(row[1])\n",
    "        \n",
    "print(len(categoires))\n",
    "#l=list[categoires]\n",
    "l=sorted(categoires)\n",
    "print(l)\n",
    "list1=[0,0,0,0,0,0,0,0,0]\n",
    "with open(\"a.csv\",encoding=\"utf8\") as csvfile:\n",
    "    csvFileReader =csv.reader(csvfile)\n",
    "    next(csvFileReader)\n",
    "    for row in csvFileReader:\n",
    "        if(row[1]==l[0]):\n",
    "            list1[0]=list1[0]+1\n",
    "        if(row[1]==l[1]):\n",
    "            list1[1]=list1[1]+1\n",
    "        if(row[1]==l[2]):\n",
    "            list1[2]=list1[2]+1\n",
    "        if(row[1]==l[3]):\n",
    "            list1[3]=list1[3]+1\n",
    "        if(row[1]==l[4]):\n",
    "            list1[4]=list1[4]+1\n",
    "        if(row[1]==l[5]):\n",
    "            list1[5]=list1[5]+1\n",
    "        if(row[1]==l[6]):\n",
    "            list1[6]=list1[6]+1\n",
    "        if(row[1]==l[7]):\n",
    "            list1[7]=list1[7]+1\n",
    "        if(row[1]==l[8]):\n",
    "            list1[8]=list1[8]+1\n",
    "\n",
    "\n",
    "print(list1)\n",
    "print(sum(list1))\n",
    "trace = Pie(labels=l, values=list1)\n",
    "plotly.plotly.iplot([trace])"
   ]
  },
  {
   "cell_type": "code",
   "execution_count": null,
   "metadata": {
    "collapsed": true
   },
   "outputs": [],
   "source": []
  }
 ],
 "metadata": {
  "kernelspec": {
   "display_name": "Python 3",
   "language": "python",
   "name": "python3"
  },
  "language_info": {
   "codemirror_mode": {
    "name": "ipython",
    "version": 3
   },
   "file_extension": ".py",
   "mimetype": "text/x-python",
   "name": "python",
   "nbconvert_exporter": "python",
   "pygments_lexer": "ipython3",
   "version": "3.6.3"
  }
 },
 "nbformat": 4,
 "nbformat_minor": 1
}
